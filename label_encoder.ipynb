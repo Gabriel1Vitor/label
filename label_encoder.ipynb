{
  "nbformat": 4,
  "nbformat_minor": 0,
  "metadata": {
    "colab": {
      "name": "label.encoder",
      "provenance": []
    },
    "kernelspec": {
      "name": "python3",
      "display_name": "Python 3"
    },
    "language_info": {
      "name": "python"
    }
  },
  "cells": [
    {
      "cell_type": "code",
      "execution_count": null,
      "metadata": {
        "id": "OQiCxmLJEKLZ"
      },
      "outputs": [],
      "source": [
        "import pandas as pd\n",
        "import numpy as np\n",
        "df=pd.read_csv(\"/content/drive/MyDrive/test.csv\")"
      ]
    },
    {
      "cell_type": "code",
      "source": [
        "from sklearn.preprocessing import LabelEncoder,OneHotEncoder"
      ],
      "metadata": {
        "id": "Yj3lTPjWZztj"
      },
      "execution_count": null,
      "outputs": []
    },
    {
      "cell_type": "code",
      "source": [
        "label=LabelEncoder()\n",
        "eletria=label.fit_transform(df[\"Electrical\"])"
      ],
      "metadata": {
        "id": "Ul5ZpaZRaTiv"
      },
      "execution_count": null,
      "outputs": []
    },
    {
      "cell_type": "code",
      "source": [
        "df[\"Street\"].unique()"
      ],
      "metadata": {
        "colab": {
          "base_uri": "https://localhost:8080/"
        },
        "id": "Y1YUn-hxe13b",
        "outputId": "be1e1c56-b4f0-454b-b7db-ed564d3c56c3"
      },
      "execution_count": null,
      "outputs": [
        {
          "output_type": "execute_result",
          "data": {
            "text/plain": [
              "array(['Pave', 'Grvl'], dtype=object)"
            ]
          },
          "metadata": {},
          "execution_count": 16
        }
      ]
    },
    {
      "cell_type": "code",
      "source": [
        "one=OneHotEncoder()\n",
        "one.fit(df[[\"Street\",\"Electrical\"]])\n",
        "tranf=one.transform(df[[\"Street\",\"Electrical\"]])"
      ],
      "metadata": {
        "id": "9t3zS2WeaTyQ"
      },
      "execution_count": null,
      "outputs": []
    },
    {
      "cell_type": "code",
      "source": [
        "print(tranf)"
      ],
      "metadata": {
        "colab": {
          "base_uri": "https://localhost:8080/"
        },
        "id": "gt_eqIIvmiu3",
        "outputId": "13f70738-0194-41de-80a5-77ba24e1d3ff"
      },
      "execution_count": null,
      "outputs": [
        {
          "output_type": "stream",
          "name": "stdout",
          "text": [
            "  (0, 1)\t1.0\n",
            "  (0, 5)\t1.0\n",
            "  (1, 1)\t1.0\n",
            "  (1, 5)\t1.0\n",
            "  (2, 1)\t1.0\n",
            "  (2, 5)\t1.0\n",
            "  (3, 1)\t1.0\n",
            "  (3, 5)\t1.0\n",
            "  (4, 1)\t1.0\n",
            "  (4, 5)\t1.0\n",
            "  (5, 1)\t1.0\n",
            "  (5, 5)\t1.0\n",
            "  (6, 1)\t1.0\n",
            "  (6, 5)\t1.0\n",
            "  (7, 1)\t1.0\n",
            "  (7, 5)\t1.0\n",
            "  (8, 1)\t1.0\n",
            "  (8, 5)\t1.0\n",
            "  (9, 1)\t1.0\n",
            "  (9, 5)\t1.0\n",
            "  (10, 1)\t1.0\n",
            "  (10, 5)\t1.0\n",
            "  (11, 1)\t1.0\n",
            "  (11, 5)\t1.0\n",
            "  (12, 1)\t1.0\n",
            "  :\t:\n",
            "  (1446, 5)\t1.0\n",
            "  (1447, 1)\t1.0\n",
            "  (1447, 5)\t1.0\n",
            "  (1448, 1)\t1.0\n",
            "  (1448, 5)\t1.0\n",
            "  (1449, 1)\t1.0\n",
            "  (1449, 5)\t1.0\n",
            "  (1450, 1)\t1.0\n",
            "  (1450, 5)\t1.0\n",
            "  (1451, 1)\t1.0\n",
            "  (1451, 5)\t1.0\n",
            "  (1452, 1)\t1.0\n",
            "  (1452, 5)\t1.0\n",
            "  (1453, 1)\t1.0\n",
            "  (1453, 5)\t1.0\n",
            "  (1454, 1)\t1.0\n",
            "  (1454, 5)\t1.0\n",
            "  (1455, 1)\t1.0\n",
            "  (1455, 5)\t1.0\n",
            "  (1456, 1)\t1.0\n",
            "  (1456, 5)\t1.0\n",
            "  (1457, 1)\t1.0\n",
            "  (1457, 5)\t1.0\n",
            "  (1458, 1)\t1.0\n",
            "  (1458, 5)\t1.0\n"
          ]
        }
      ]
    },
    {
      "cell_type": "code",
      "source": [
        "elet=pd.Series(eletria)"
      ],
      "metadata": {
        "id": "7ES4ClJuaUA_"
      },
      "execution_count": null,
      "outputs": []
    },
    {
      "cell_type": "code",
      "source": [
        "elet.unique()"
      ],
      "metadata": {
        "colab": {
          "base_uri": "https://localhost:8080/"
        },
        "id": "4afuIK2Zl8MD",
        "outputId": "1bf45b12-15f1-4d80-d1cc-067afa325e39"
      },
      "execution_count": null,
      "outputs": [
        {
          "output_type": "execute_result",
          "data": {
            "text/plain": [
              "array([3, 0, 1, 2])"
            ]
          },
          "metadata": {},
          "execution_count": 77
        }
      ]
    },
    {
      "cell_type": "code",
      "source": [
        "df[\"Electrical\"].unique()"
      ],
      "metadata": {
        "colab": {
          "base_uri": "https://localhost:8080/"
        },
        "id": "muZlZKffmI32",
        "outputId": "256c26e4-b672-48b7-b764-e70f5f0c81a0"
      },
      "execution_count": null,
      "outputs": [
        {
          "output_type": "execute_result",
          "data": {
            "text/plain": [
              "array(['SBrkr', 'FuseA', 'FuseF', 'FuseP'], dtype=object)"
            ]
          },
          "metadata": {},
          "execution_count": 78
        }
      ]
    },
    {
      "cell_type": "code",
      "source": [
        ""
      ],
      "metadata": {
        "id": "JdxO2KbfnTF-"
      },
      "execution_count": null,
      "outputs": []
    },
    {
      "cell_type": "code",
      "source": [
        ""
      ],
      "metadata": {
        "id": "Eoe84C8Bn8iA"
      },
      "execution_count": null,
      "outputs": []
    }
  ]
}